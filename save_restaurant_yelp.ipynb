{
 "cells": [
  {
   "cell_type": "code",
   "execution_count": 1,
   "metadata": {},
   "outputs": [],
   "source": [
    "import numpy as np\n",
    "import pandas as pd\n",
    "import json\n",
    "import pickle\n",
    "import seaborn as sns\n",
    "import matplotlib.pyplot as plt\n",
    "from collections import Counter\n",
    "import random\n",
    "import datetime"
   ]
  },
  {
   "cell_type": "code",
   "execution_count": 11,
   "metadata": {},
   "outputs": [
    {
     "name": "stdout",
     "output_type": "stream",
     "text": [
      "full_file_path  /p/reviewde/data/yelp/review.json\n"
     ]
    }
   ],
   "source": [
    "file_dir = \"/p/reviewde/data/yelp/\"\n",
    "file_name = \"review.json\"\n",
    "full_file_path = file_dir + file_name\n",
    "print(\"full_file_path \", full_file_path)"
   ]
  },
  {
   "cell_type": "code",
   "execution_count": 12,
   "metadata": {},
   "outputs": [
    {
     "name": "stdout",
     "output_type": "stream",
     "text": [
      "1000000\n",
      "2000000\n",
      "3000000\n",
      "4000000\n",
      "5000000\n",
      "6000000\n"
     ]
    }
   ],
   "source": [
    "f = open(full_file_path, \"r\")\n",
    "l_index = 0\n",
    "\n",
    "columns = ['rating', 'userid', 'itemid', 'review']\n",
    "data_list = []\n",
    "\n",
    "for l in f:\n",
    "    line = json.loads(l)\n",
    "    rating = line['stars']\n",
    "    userid = line['user_id']\n",
    "    itemid = line['business_id']\n",
    "#     text = line['text']\n",
    "    \n",
    "    if 'text' not in line:\n",
    "        continue\n",
    "    review_content = line['text']\n",
    "    \n",
    "    sub_data = []\n",
    "    \n",
    "    sub_data.append(rating)\n",
    "    sub_data.append(userid)\n",
    "    sub_data.append(itemid)\n",
    "    sub_data.append(review_content)\n",
    "    \n",
    "    data_list.append(sub_data)\n",
    "    \n",
    "    l_index += 1\n",
    "    \n",
    "    if l_index %1e6 == 0:\n",
    "        print(l_index)\n",
    "    \n",
    "f.close()"
   ]
  },
  {
   "cell_type": "code",
   "execution_count": 13,
   "metadata": {},
   "outputs": [
    {
     "name": "stdout",
     "output_type": "stream",
     "text": [
      "sample num 6685900\n"
     ]
    }
   ],
   "source": [
    "print(\"sample num\", l_index)\n",
    "df = pd.DataFrame(data_list)"
   ]
  },
  {
   "cell_type": "code",
   "execution_count": 14,
   "metadata": {},
   "outputs": [],
   "source": [
    "df.columns = columns"
   ]
  },
  {
   "cell_type": "code",
   "execution_count": 15,
   "metadata": {},
   "outputs": [
    {
     "name": "stdout",
     "output_type": "stream",
     "text": [
      "sample num in df 6685900\n"
     ]
    }
   ],
   "source": [
    "sample_num = len(df)\n",
    "print(\"sample num in df\", sample_num)"
   ]
  },
  {
   "cell_type": "code",
   "execution_count": 16,
   "metadata": {},
   "outputs": [
    {
     "data": {
      "text/html": [
       "<div>\n",
       "<style scoped>\n",
       "    .dataframe tbody tr th:only-of-type {\n",
       "        vertical-align: middle;\n",
       "    }\n",
       "\n",
       "    .dataframe tbody tr th {\n",
       "        vertical-align: top;\n",
       "    }\n",
       "\n",
       "    .dataframe thead th {\n",
       "        text-align: right;\n",
       "    }\n",
       "</style>\n",
       "<table border=\"1\" class=\"dataframe\">\n",
       "  <thead>\n",
       "    <tr style=\"text-align: right;\">\n",
       "      <th></th>\n",
       "      <th>rating</th>\n",
       "      <th>userid</th>\n",
       "      <th>itemid</th>\n",
       "      <th>review</th>\n",
       "    </tr>\n",
       "  </thead>\n",
       "  <tbody>\n",
       "    <tr>\n",
       "      <th>0</th>\n",
       "      <td>1.0</td>\n",
       "      <td>hG7b0MtEbXx5QzbzE6C_VA</td>\n",
       "      <td>ujmEBvifdJM6h6RLv4wQIg</td>\n",
       "      <td>Total bill for this horrible service? Over $8G...</td>\n",
       "    </tr>\n",
       "    <tr>\n",
       "      <th>1</th>\n",
       "      <td>5.0</td>\n",
       "      <td>yXQM5uF2jS6es16SJzNHfg</td>\n",
       "      <td>NZnhc2sEQy3RmzKTZnqtwQ</td>\n",
       "      <td>I *adore* Travis at the Hard Rock's new Kelly ...</td>\n",
       "    </tr>\n",
       "    <tr>\n",
       "      <th>2</th>\n",
       "      <td>5.0</td>\n",
       "      <td>n6-Gk65cPZL6Uz8qRm3NYw</td>\n",
       "      <td>WTqjgwHlXbSFevF32_DJVw</td>\n",
       "      <td>I have to say that this office really has it t...</td>\n",
       "    </tr>\n",
       "    <tr>\n",
       "      <th>3</th>\n",
       "      <td>5.0</td>\n",
       "      <td>dacAIZ6fTM6mqwW5uxkskg</td>\n",
       "      <td>ikCg8xy5JIg_NGPx-MSIDA</td>\n",
       "      <td>Went in for a lunch. Steak sandwich was delici...</td>\n",
       "    </tr>\n",
       "    <tr>\n",
       "      <th>4</th>\n",
       "      <td>1.0</td>\n",
       "      <td>ssoyf2_x0EQMed6fgHeMyQ</td>\n",
       "      <td>b1b1eb3uo-w561D0ZfCEiQ</td>\n",
       "      <td>Today was my second out of three sessions I ha...</td>\n",
       "    </tr>\n",
       "  </tbody>\n",
       "</table>\n",
       "</div>"
      ],
      "text/plain": [
       "   rating                  userid                  itemid  \\\n",
       "0     1.0  hG7b0MtEbXx5QzbzE6C_VA  ujmEBvifdJM6h6RLv4wQIg   \n",
       "1     5.0  yXQM5uF2jS6es16SJzNHfg  NZnhc2sEQy3RmzKTZnqtwQ   \n",
       "2     5.0  n6-Gk65cPZL6Uz8qRm3NYw  WTqjgwHlXbSFevF32_DJVw   \n",
       "3     5.0  dacAIZ6fTM6mqwW5uxkskg  ikCg8xy5JIg_NGPx-MSIDA   \n",
       "4     1.0  ssoyf2_x0EQMed6fgHeMyQ  b1b1eb3uo-w561D0ZfCEiQ   \n",
       "\n",
       "                                              review  \n",
       "0  Total bill for this horrible service? Over $8G...  \n",
       "1  I *adore* Travis at the Hard Rock's new Kelly ...  \n",
       "2  I have to say that this office really has it t...  \n",
       "3  Went in for a lunch. Steak sandwich was delici...  \n",
       "4  Today was my second out of three sessions I ha...  "
      ]
     },
     "execution_count": 16,
     "metadata": {},
     "output_type": "execute_result"
    }
   ],
   "source": [
    "df.head()"
   ]
  },
  {
   "cell_type": "code",
   "execution_count": 17,
   "metadata": {},
   "outputs": [],
   "source": [
    "pickle_file = \"/p/reviewde/data/yelp/yelp.pickle\"\n",
    "df.to_pickle(pickle_file)"
   ]
  },
  {
   "cell_type": "code",
   "execution_count": 18,
   "metadata": {},
   "outputs": [],
   "source": [
    "pickle_file = \"/p/reviewde/data/yelp/yelp.pickle\"\n",
    "df = pd.read_pickle(pickle_file)"
   ]
  },
  {
   "cell_type": "code",
   "execution_count": null,
   "metadata": {},
   "outputs": [],
   "source": []
  },
  {
   "cell_type": "code",
   "execution_count": 4,
   "metadata": {},
   "outputs": [
    {
     "name": "stdout",
     "output_type": "stream",
     "text": [
      "full_file_path  /p/reviewde/data/yelp/business.json\n"
     ]
    }
   ],
   "source": [
    "file_dir = \"/p/reviewde/data/yelp/\"\n",
    "file_name = \"business.json\"\n",
    "full_file_path = file_dir + file_name\n",
    "print(\"full_file_path \", full_file_path)"
   ]
  },
  {
   "cell_type": "code",
   "execution_count": 5,
   "metadata": {},
   "outputs": [
    {
     "name": "stdout",
     "output_type": "stream",
     "text": [
      "100000\n"
     ]
    }
   ],
   "source": [
    "f = open(full_file_path, \"r\")\n",
    "l_index = 0\n",
    "\n",
    "columns = ['categories', 'itemid', 'review_count']\n",
    "data_list = []\n",
    "\n",
    "for l in f:\n",
    "    line = json.loads(l)\n",
    "    itemid = line['business_id']\n",
    "    review_count = line['review_count']\n",
    "    \n",
    "    if 'categories' not in line:\n",
    "        continue\n",
    "    categories = line['categories']\n",
    "    \n",
    "    sub_data = []\n",
    "    \n",
    "    sub_data.append(categories)\n",
    "    sub_data.append(itemid)\n",
    "    sub_data.append(review_count)\n",
    "    \n",
    "    data_list.append(sub_data)\n",
    "    \n",
    "    l_index += 1\n",
    "    \n",
    "    if l_index %1e5 == 0:\n",
    "        print(l_index)\n",
    "    \n",
    "f.close()"
   ]
  },
  {
   "cell_type": "code",
   "execution_count": 6,
   "metadata": {},
   "outputs": [
    {
     "name": "stdout",
     "output_type": "stream",
     "text": [
      "item num 192609\n"
     ]
    }
   ],
   "source": [
    "item_df = pd.DataFrame(data_list)\n",
    "item_num = len(item_df)\n",
    "print(\"item num\", item_num)\n",
    "item_df.columns = columns"
   ]
  },
  {
   "cell_type": "code",
   "execution_count": 7,
   "metadata": {},
   "outputs": [
    {
     "data": {
      "text/html": [
       "<div>\n",
       "<style scoped>\n",
       "    .dataframe tbody tr th:only-of-type {\n",
       "        vertical-align: middle;\n",
       "    }\n",
       "\n",
       "    .dataframe tbody tr th {\n",
       "        vertical-align: top;\n",
       "    }\n",
       "\n",
       "    .dataframe thead th {\n",
       "        text-align: right;\n",
       "    }\n",
       "</style>\n",
       "<table border=\"1\" class=\"dataframe\">\n",
       "  <thead>\n",
       "    <tr style=\"text-align: right;\">\n",
       "      <th></th>\n",
       "      <th>categories</th>\n",
       "      <th>itemid</th>\n",
       "      <th>review_count</th>\n",
       "    </tr>\n",
       "  </thead>\n",
       "  <tbody>\n",
       "    <tr>\n",
       "      <th>0</th>\n",
       "      <td>Golf, Active Life</td>\n",
       "      <td>1SWheh84yJXfytovILXOAQ</td>\n",
       "      <td>5</td>\n",
       "    </tr>\n",
       "    <tr>\n",
       "      <th>1</th>\n",
       "      <td>Specialty Food, Restaurants, Dim Sum, Imported...</td>\n",
       "      <td>QXAEGFB4oINsVuTFxEYKFQ</td>\n",
       "      <td>128</td>\n",
       "    </tr>\n",
       "    <tr>\n",
       "      <th>2</th>\n",
       "      <td>Sushi Bars, Restaurants, Japanese</td>\n",
       "      <td>gnKjwL_1w79qoiV3IC_xQQ</td>\n",
       "      <td>170</td>\n",
       "    </tr>\n",
       "    <tr>\n",
       "      <th>3</th>\n",
       "      <td>Insurance, Financial Services</td>\n",
       "      <td>xvX2CttrVhyG2z1dFg_0xw</td>\n",
       "      <td>3</td>\n",
       "    </tr>\n",
       "    <tr>\n",
       "      <th>4</th>\n",
       "      <td>Plumbing, Shopping, Local Services, Home Servi...</td>\n",
       "      <td>HhyxOkGAM07SRYtlQ4wMFQ</td>\n",
       "      <td>4</td>\n",
       "    </tr>\n",
       "  </tbody>\n",
       "</table>\n",
       "</div>"
      ],
      "text/plain": [
       "                                          categories                  itemid  \\\n",
       "0                                  Golf, Active Life  1SWheh84yJXfytovILXOAQ   \n",
       "1  Specialty Food, Restaurants, Dim Sum, Imported...  QXAEGFB4oINsVuTFxEYKFQ   \n",
       "2                  Sushi Bars, Restaurants, Japanese  gnKjwL_1w79qoiV3IC_xQQ   \n",
       "3                      Insurance, Financial Services  xvX2CttrVhyG2z1dFg_0xw   \n",
       "4  Plumbing, Shopping, Local Services, Home Servi...  HhyxOkGAM07SRYtlQ4wMFQ   \n",
       "\n",
       "   review_count  \n",
       "0             5  \n",
       "1           128  \n",
       "2           170  \n",
       "3             3  \n",
       "4             4  "
      ]
     },
     "execution_count": 7,
     "metadata": {},
     "output_type": "execute_result"
    }
   ],
   "source": [
    "item_df.head()"
   ]
  },
  {
   "cell_type": "code",
   "execution_count": null,
   "metadata": {},
   "outputs": [],
   "source": []
  },
  {
   "cell_type": "code",
   "execution_count": null,
   "metadata": {},
   "outputs": [],
   "source": []
  },
  {
   "cell_type": "code",
   "execution_count": 8,
   "metadata": {},
   "outputs": [
    {
     "name": "stdout",
     "output_type": "stream",
     "text": [
      "item num 192609\n",
      "restaurant item num 59387\n"
     ]
    }
   ],
   "source": [
    "categories_list = item_df.categories.tolist()\n",
    "item_list = item_df.itemid.tolist()\n",
    "item_num = len(item_list)\n",
    "print(\"item num\", item_num)\n",
    "restaurant_id_list = []\n",
    "for i in range(item_num):\n",
    "    item_id = item_list[i]\n",
    "    categories = categories_list[i]\n",
    "    if not categories:\n",
    "        continue\n",
    "#     print(\"categories\", categories)\n",
    "    \n",
    "    if 'Restaurants' in categories:\n",
    "        restaurant_id_list.append(item_id)\n",
    "    \n",
    "    if 'restaurants' in categories:\n",
    "        if item_id in restaurant_id_list:\n",
    "            continue\n",
    "        restaurant_id_list.append(item_id)\n",
    "        \n",
    "    if 'restaurant' in categories:\n",
    "        if item_id in restaurant_id_list:\n",
    "            continue\n",
    "        restaurant_id_list.append(item_id)\n",
    "    \n",
    "    if 'Restaurant' in categories:\n",
    "        if item_id in restaurant_id_list:\n",
    "            continue\n",
    "        restaurant_id_list.append(item_id)\n",
    "        \n",
    "print(\"restaurant item num\", len(restaurant_id_list))"
   ]
  },
  {
   "cell_type": "markdown",
   "metadata": {},
   "source": [
    "### reserve reviews about restaurant "
   ]
  },
  {
   "cell_type": "code",
   "execution_count": 19,
   "metadata": {},
   "outputs": [
    {
     "name": "stdout",
     "output_type": "stream",
     "text": [
      "before filtering 6685900\n",
      "after filtering 4201890\n"
     ]
    }
   ],
   "source": [
    "review_num = len(df)\n",
    "print(\"before filtering\", review_num)\n",
    "df = df[df.itemid.isin(restaurant_id_list)]\n",
    "review_num = len(df)\n",
    "print(\"after filtering\", review_num)"
   ]
  },
  {
   "cell_type": "code",
   "execution_count": null,
   "metadata": {},
   "outputs": [],
   "source": []
  },
  {
   "cell_type": "code",
   "execution_count": 20,
   "metadata": {},
   "outputs": [],
   "source": [
    "min_item_freq_threshold = 10\n",
    "def remove_infrequent_items(df):\n",
    "    print(\" before sample num \", len(df))\n",
    "    remove_item_list = []\n",
    "    item_freq_map = df['itemid'].value_counts()\n",
    "    for item, freq in item_freq_map.items():\n",
    "        if freq < min_item_freq_threshold:\n",
    "            remove_item_list.append(item)\n",
    "    remove_item_num = len(remove_item_list)\n",
    "    print(\"remove item num\", remove_item_num, remove_item_num*1.0/len(item_freq_map.keys()))\n",
    "    print(\"before filtering item num\", df.itemid.nunique())\n",
    "    df = df[~df.itemid.isin(remove_item_list)]\n",
    "    print(\"after filtering item num\", df.itemid.nunique())\n",
    "    print(\" after sample num \", len(df))\n",
    "    \n",
    "    return df"
   ]
  },
  {
   "cell_type": "code",
   "execution_count": 21,
   "metadata": {},
   "outputs": [],
   "source": [
    "min_user_freq_threshold = 10\n",
    "def remove_infrequent_users(df):\n",
    "    print(\" before sample num \", len(df))\n",
    "    \n",
    "    user_freq_map = df['userid'].value_counts()\n",
    "    filter_users = user_freq_map[user_freq_map>=1000].index\n",
    "    filter_users_num = len(filter_users)\n",
    "\n",
    "    filter_users_num_total = 0\n",
    "    print(\"filter user actions >= 1000\", filter_users_num)\n",
    "    filter_users_num_total += filter_users_num\n",
    "    df = df[~df.userid.isin(filter_users)]\n",
    "\n",
    "    filter_users = user_freq_map[user_freq_map<=min_user_freq_threshold].index\n",
    "    filter_users_num = len(filter_users)\n",
    "    print(\"filter user actions <= 10\", filter_users_num)\n",
    "    filter_users_num_total += filter_users_num\n",
    "    df = df[~df.userid.isin(filter_users)]\n",
    "\n",
    "    print(\"filter total user num\", filter_users_num_total)\n",
    "    print(\"after filtering user num\", df.userid.nunique())\n",
    "    \n",
    "    print(\" after sample num \", len(df))\n",
    "    \n",
    "    return df"
   ]
  },
  {
   "cell_type": "code",
   "execution_count": 23,
   "metadata": {
    "collapsed": true
   },
   "outputs": [
    {
     "name": "stdout",
     "output_type": "stream",
     "text": [
      "====================\n",
      " before sample num  4201890\n",
      "remove item num 17891 0.301261218785256\n",
      "before filtering item num 59387\n",
      "after filtering item num 41496\n",
      " after sample num  4106524\n",
      " before sample num  4106524\n",
      "filter user actions >= 1000 8\n",
      "filter user actions <= 5 1069731\n",
      "filter total user num 1069739\n",
      "after filtering user num 63721\n",
      " after sample num  1847190\n",
      "min_item_freq 1\n",
      "min_user_freq 11\n",
      "iter_i: 1\n",
      "====================\n",
      " before sample num  1847190\n",
      "remove item num 10945 0.26411042204580004\n",
      "before filtering item num 41441\n",
      "after filtering item num 30496\n",
      " after sample num  1780407\n",
      " before sample num  1780407\n",
      "filter user actions >= 1000 0\n",
      "filter user actions <= 5 2711\n",
      "filter total user num 2711\n",
      "after filtering user num 61010\n",
      " after sample num  1754689\n",
      "min_item_freq 6\n",
      "min_user_freq 11\n",
      "iter_i: 2\n",
      "====================\n",
      " before sample num  1754689\n",
      "remove item num 510 0.016723504721930744\n",
      "before filtering item num 30496\n",
      "after filtering item num 29986\n",
      " after sample num  1750253\n",
      " before sample num  1750253\n",
      "filter user actions >= 1000 0\n",
      "filter user actions <= 5 172\n",
      "filter total user num 172\n",
      "after filtering user num 60838\n",
      " after sample num  1748548\n",
      "min_item_freq 7\n",
      "min_user_freq 11\n",
      "iter_i: 3\n",
      "====================\n",
      " before sample num  1748548\n",
      "remove item num 38 0.0012672580537584205\n",
      "before filtering item num 29986\n",
      "after filtering item num 29948\n",
      " after sample num  1748209\n",
      " before sample num  1748209\n",
      "filter user actions >= 1000 0\n",
      "filter user actions <= 5 17\n",
      "filter total user num 17\n",
      "after filtering user num 60821\n",
      " after sample num  1748040\n",
      "min_item_freq 9\n",
      "min_user_freq 11\n",
      "iter_i: 4\n",
      "====================\n",
      " before sample num  1748040\n",
      "remove item num 7 0.00023373848003205557\n",
      "before filtering item num 29948\n",
      "after filtering item num 29941\n",
      " after sample num  1747977\n",
      " before sample num  1747977\n",
      "filter user actions >= 1000 0\n",
      "filter user actions <= 5 2\n",
      "filter total user num 2\n",
      "after filtering user num 60819\n",
      " after sample num  1747957\n",
      "min_item_freq 9\n",
      "min_user_freq 11\n",
      "iter_i: 5\n",
      "====================\n",
      " before sample num  1747957\n",
      "remove item num 1 3.339901806886878e-05\n",
      "before filtering item num 29941\n",
      "after filtering item num 29940\n",
      " after sample num  1747948\n",
      " before sample num  1747948\n",
      "filter user actions >= 1000 0\n",
      "filter user actions <= 5 0\n",
      "filter total user num 0\n",
      "after filtering user num 60819\n",
      " after sample num  1747948\n",
      "min_item_freq 10\n",
      "min_user_freq 11\n",
      "iter_i: 6\n"
     ]
    }
   ],
   "source": [
    "item_freq_list = df['itemid'].value_counts().tolist()\n",
    "min_item_freq = min(item_freq_list)\n",
    "\n",
    "user_freq_list = df['userid'].value_counts().tolist()\n",
    "min_user_freq = min(user_freq_list)\n",
    "\n",
    "iter_i = 0\n",
    "\n",
    "while min_item_freq < min_item_freq_threshold or min_user_freq < min_user_freq_threshold:\n",
    "    print(\"==\"*10)\n",
    "    df = remove_infrequent_items(df)\n",
    "    df = remove_infrequent_users(df)\n",
    "    \n",
    "    item_freq_list = df['itemid'].value_counts().tolist()\n",
    "    min_item_freq = min(item_freq_list)\n",
    "    print(\"min_item_freq\", min_item_freq)\n",
    "    \n",
    "    user_freq_list = df['userid'].value_counts().tolist()\n",
    "    min_user_freq = min(user_freq_list)\n",
    "    print(\"min_user_freq\", min_user_freq)\n",
    "    \n",
    "    iter_i += 1\n",
    "    print(\"iter_i:\", iter_i)"
   ]
  },
  {
   "cell_type": "code",
   "execution_count": 24,
   "metadata": {},
   "outputs": [
    {
     "name": "stdout",
     "output_type": "stream",
     "text": [
      "min_item_freq 10\n"
     ]
    }
   ],
   "source": [
    "item_freq_list = df['itemid'].value_counts().tolist()\n",
    "min_item_freq = min(item_freq_list)\n",
    "print(\"min_item_freq\", min_item_freq)"
   ]
  },
  {
   "cell_type": "code",
   "execution_count": 25,
   "metadata": {},
   "outputs": [
    {
     "name": "stdout",
     "output_type": "stream",
     "text": [
      "min_user_freq 11\n"
     ]
    }
   ],
   "source": [
    "user_freq_list = df['userid'].value_counts().tolist()\n",
    "min_user_freq = min(user_freq_list)\n",
    "print(\"min_user_freq\", min_user_freq)"
   ]
  },
  {
   "cell_type": "code",
   "execution_count": 26,
   "metadata": {},
   "outputs": [
    {
     "name": "stdout",
     "output_type": "stream",
     "text": [
      "sample num 1747948\n"
     ]
    }
   ],
   "source": [
    "sample_num = len(df)\n",
    "print(\"sample num\", sample_num)"
   ]
  },
  {
   "cell_type": "code",
   "execution_count": null,
   "metadata": {},
   "outputs": [],
   "source": []
  },
  {
   "cell_type": "code",
   "execution_count": 59,
   "metadata": {},
   "outputs": [],
   "source": [
    "pickle_file = \"/p/reviewde/data/yelp_restaurant_new/yelp.pickle\"\n",
    "df.to_pickle(pickle_file)"
   ]
  },
  {
   "cell_type": "code",
   "execution_count": null,
   "metadata": {},
   "outputs": [],
   "source": [
    "pickle_file = \"/p/reviewde/data/yelp_restaurant_new/yelp.pickle\"\n",
    "df = pd.read_pickle(pickle_file)"
   ]
  },
  {
   "cell_type": "code",
   "execution_count": null,
   "metadata": {},
   "outputs": [],
   "source": []
  },
  {
   "cell_type": "code",
   "execution_count": 82,
   "metadata": {},
   "outputs": [
    {
     "data": {
      "text/html": [
       "<div>\n",
       "<style scoped>\n",
       "    .dataframe tbody tr th:only-of-type {\n",
       "        vertical-align: middle;\n",
       "    }\n",
       "\n",
       "    .dataframe tbody tr th {\n",
       "        vertical-align: top;\n",
       "    }\n",
       "\n",
       "    .dataframe thead th {\n",
       "        text-align: right;\n",
       "    }\n",
       "</style>\n",
       "<table border=\"1\" class=\"dataframe\">\n",
       "  <thead>\n",
       "    <tr style=\"text-align: right;\">\n",
       "      <th></th>\n",
       "      <th>rating</th>\n",
       "      <th>userid</th>\n",
       "      <th>itemid</th>\n",
       "      <th>review</th>\n",
       "    </tr>\n",
       "  </thead>\n",
       "  <tbody>\n",
       "    <tr>\n",
       "      <th>6</th>\n",
       "      <td>3.0</td>\n",
       "      <td>jlu4CztcSxrKx56ba1a5AQ</td>\n",
       "      <td>3fw2X5bZYeW9xCz_zGhOHg</td>\n",
       "      <td>Tracy dessert had a big name in Hong Kong and ...</td>\n",
       "    </tr>\n",
       "    <tr>\n",
       "      <th>7</th>\n",
       "      <td>1.0</td>\n",
       "      <td>d6xvYpyzcfbF_AZ8vMB7QA</td>\n",
       "      <td>zvO-PJCpNk4fgAVUnExYAA</td>\n",
       "      <td>This place has gone down hill.  Clearly they h...</td>\n",
       "    </tr>\n",
       "    <tr>\n",
       "      <th>10</th>\n",
       "      <td>4.0</td>\n",
       "      <td>FIk4lQQu1eTe2EpzQ4xhBA</td>\n",
       "      <td>8mIrX_LrOnAqWsB5JrOojQ</td>\n",
       "      <td>Like walking back in time, every Saturday morn...</td>\n",
       "    </tr>\n",
       "    <tr>\n",
       "      <th>14</th>\n",
       "      <td>1.0</td>\n",
       "      <td>TpyOT5E16YASd7EWjLQlrw</td>\n",
       "      <td>AakkkTuGZA2KBodKi2_u8A</td>\n",
       "      <td>I cannot believe how things have changed in 3 ...</td>\n",
       "    </tr>\n",
       "    <tr>\n",
       "      <th>16</th>\n",
       "      <td>4.0</td>\n",
       "      <td>86J5DwcFk4f4In1Vxe2TvA</td>\n",
       "      <td>NyLYY8q1-H3hfsTwuwLPCg</td>\n",
       "      <td>Great lunch today. Staff was very helpful in a...</td>\n",
       "    </tr>\n",
       "  </tbody>\n",
       "</table>\n",
       "</div>"
      ],
      "text/plain": [
       "    rating                  userid                  itemid  \\\n",
       "6      3.0  jlu4CztcSxrKx56ba1a5AQ  3fw2X5bZYeW9xCz_zGhOHg   \n",
       "7      1.0  d6xvYpyzcfbF_AZ8vMB7QA  zvO-PJCpNk4fgAVUnExYAA   \n",
       "10     4.0  FIk4lQQu1eTe2EpzQ4xhBA  8mIrX_LrOnAqWsB5JrOojQ   \n",
       "14     1.0  TpyOT5E16YASd7EWjLQlrw  AakkkTuGZA2KBodKi2_u8A   \n",
       "16     4.0  86J5DwcFk4f4In1Vxe2TvA  NyLYY8q1-H3hfsTwuwLPCg   \n",
       "\n",
       "                                               review  \n",
       "6   Tracy dessert had a big name in Hong Kong and ...  \n",
       "7   This place has gone down hill.  Clearly they h...  \n",
       "10  Like walking back in time, every Saturday morn...  \n",
       "14  I cannot believe how things have changed in 3 ...  \n",
       "16  Great lunch today. Staff was very helpful in a...  "
      ]
     },
     "execution_count": 82,
     "metadata": {},
     "output_type": "execute_result"
    }
   ],
   "source": [
    "df.head()"
   ]
  },
  {
   "cell_type": "code",
   "execution_count": null,
   "metadata": {},
   "outputs": [],
   "source": []
  },
  {
   "cell_type": "code",
   "execution_count": 88,
   "metadata": {},
   "outputs": [
    {
     "data": {
      "text/plain": [
       "['Asian Fusion, Restaurants, Vietnamese']"
      ]
     },
     "execution_count": 88,
     "metadata": {},
     "output_type": "execute_result"
    }
   ],
   "source": [
    "item_df[item_df.itemid==\"AakkkTuGZA2KBodKi2_u8A\"].categories.tolist()"
   ]
  },
  {
   "cell_type": "code",
   "execution_count": null,
   "metadata": {},
   "outputs": [],
   "source": [
    "df[df.itemid==\"AakkkTuGZA2KBodKi2_u8A\"].review.tolist()"
   ]
  },
  {
   "cell_type": "code",
   "execution_count": null,
   "metadata": {},
   "outputs": [],
   "source": []
  },
  {
   "cell_type": "code",
   "execution_count": null,
   "metadata": {},
   "outputs": [],
   "source": []
  },
  {
   "cell_type": "code",
   "execution_count": 60,
   "metadata": {},
   "outputs": [],
   "source": [
    "from sklearn.feature_extraction.text import CountVectorizer"
   ]
  },
  {
   "cell_type": "code",
   "execution_count": 61,
   "metadata": {},
   "outputs": [],
   "source": [
    "count_vect = CountVectorizer(max_df=0.05, min_df=20, stop_words='english')"
   ]
  },
  {
   "cell_type": "code",
   "execution_count": 62,
   "metadata": {},
   "outputs": [],
   "source": [
    "doc_term_matrix = count_vect.fit_transform(df.review.values.astype('U'))"
   ]
  },
  {
   "cell_type": "code",
   "execution_count": 65,
   "metadata": {},
   "outputs": [],
   "source": [
    "voc = count_vect.vocabulary_"
   ]
  },
  {
   "cell_type": "code",
   "execution_count": 69,
   "metadata": {},
   "outputs": [],
   "source": [
    "if \"service\" in voc:\n",
    "    print(\"true\")"
   ]
  },
  {
   "cell_type": "code",
   "execution_count": 70,
   "metadata": {},
   "outputs": [
    {
     "data": {
      "text/plain": [
       "44564"
      ]
     },
     "execution_count": 70,
     "metadata": {},
     "output_type": "execute_result"
    }
   ],
   "source": [
    "len(voc)"
   ]
  },
  {
   "cell_type": "code",
   "execution_count": 79,
   "metadata": {},
   "outputs": [
    {
     "data": {
      "text/plain": [
       "279980"
      ]
     },
     "execution_count": 79,
     "metadata": {},
     "output_type": "execute_result"
    }
   ],
   "source": [
    "len(count_vect.stop_words_)"
   ]
  },
  {
   "cell_type": "code",
   "execution_count": 81,
   "metadata": {},
   "outputs": [
    {
     "data": {
      "text/plain": [
       "87397.40000000001"
      ]
     },
     "execution_count": 81,
     "metadata": {},
     "output_type": "execute_result"
    }
   ],
   "source": [
    "len(df.review)*0.05"
   ]
  },
  {
   "cell_type": "code",
   "execution_count": null,
   "metadata": {},
   "outputs": [],
   "source": []
  },
  {
   "cell_type": "code",
   "execution_count": 71,
   "metadata": {},
   "outputs": [],
   "source": [
    "from nltk.corpus import wordnet as wn\n",
    "import nltk\n",
    "from nltk import *"
   ]
  },
  {
   "cell_type": "code",
   "execution_count": 72,
   "metadata": {},
   "outputs": [],
   "source": [
    "nouns = {x.name().split('.', 1)[0] for x in wn.all_synsets('n')}"
   ]
  },
  {
   "cell_type": "code",
   "execution_count": 73,
   "metadata": {},
   "outputs": [
    {
     "name": "stdout",
     "output_type": "stream",
     "text": [
      "10631\n"
     ]
    }
   ],
   "source": [
    "noun_voc = []\n",
    "for word in voc:\n",
    "    if word in nouns:\n",
    "        noun_voc.append(word)\n",
    "print(len(noun_voc))"
   ]
  },
  {
   "cell_type": "code",
   "execution_count": 75,
   "metadata": {},
   "outputs": [],
   "source": [
    "attr_file = \"../data/yelp_restaurant_new/attr.csv\"\n",
    "f = open(attr_file, 'w')\n",
    "for i in noun_voc:\n",
    "    f.write(i+'\\n')\n",
    "f.close()"
   ]
  },
  {
   "cell_type": "code",
   "execution_count": 76,
   "metadata": {},
   "outputs": [],
   "source": [
    "attr_file = \"attr.csv\"\n",
    "f = open(attr_file, 'w')\n",
    "for i in noun_voc:\n",
    "    f.write(i+'\\n')\n",
    "f.close()"
   ]
  },
  {
   "cell_type": "code",
   "execution_count": null,
   "metadata": {},
   "outputs": [],
   "source": []
  },
  {
   "cell_type": "code",
   "execution_count": 32,
   "metadata": {},
   "outputs": [],
   "source": [
    "from nltk.tokenize import sent_tokenize, word_tokenize"
   ]
  },
  {
   "cell_type": "code",
   "execution_count": 54,
   "metadata": {},
   "outputs": [],
   "source": [
    "a = \"This is a beautiful chair. \\n But I do not like it.\""
   ]
  },
  {
   "cell_type": "code",
   "execution_count": 55,
   "metadata": {},
   "outputs": [
    {
     "data": {
      "text/plain": [
       "'This is a beautiful chair. \\n But I do not like it.'"
      ]
     },
     "execution_count": 55,
     "metadata": {},
     "output_type": "execute_result"
    }
   ],
   "source": [
    "a"
   ]
  },
  {
   "cell_type": "code",
   "execution_count": 56,
   "metadata": {},
   "outputs": [],
   "source": [
    "sens = sent_tokenize(a)"
   ]
  },
  {
   "cell_type": "code",
   "execution_count": 52,
   "metadata": {},
   "outputs": [
    {
     "name": "stdout",
     "output_type": "stream",
     "text": [
      "words ['This', 'is', 'a', 'beautiful', 'chair', ',', 'But', 'I', 'do', 'not', 'like', 'it', '.']\n"
     ]
    }
   ],
   "source": [
    "for sen in sens:\n",
    "    words = word_tokenize(sen)\n",
    "    print(\"words\", words)"
   ]
  },
  {
   "cell_type": "code",
   "execution_count": 49,
   "metadata": {},
   "outputs": [],
   "source": [
    "a = a.replace('\\n', ' ')"
   ]
  },
  {
   "cell_type": "code",
   "execution_count": 57,
   "metadata": {},
   "outputs": [
    {
     "data": {
      "text/plain": [
       "['This is a beautiful chair.', 'But I do not like it.']"
      ]
     },
     "execution_count": 57,
     "metadata": {},
     "output_type": "execute_result"
    }
   ],
   "source": [
    "sens"
   ]
  },
  {
   "cell_type": "code",
   "execution_count": 58,
   "metadata": {},
   "outputs": [
    {
     "data": {
      "text/plain": [
       "'This is a beautiful chair. But I do not like it.'"
      ]
     },
     "execution_count": 58,
     "metadata": {},
     "output_type": "execute_result"
    }
   ],
   "source": [
    "\" \".join(sens)"
   ]
  },
  {
   "cell_type": "code",
   "execution_count": null,
   "metadata": {},
   "outputs": [],
   "source": []
  }
 ],
 "metadata": {
  "kernelspec": {
   "display_name": "Python 3",
   "language": "python",
   "name": "python3"
  },
  "language_info": {
   "codemirror_mode": {
    "name": "ipython",
    "version": 3
   },
   "file_extension": ".py",
   "mimetype": "text/x-python",
   "name": "python",
   "nbconvert_exporter": "python",
   "pygments_lexer": "ipython3",
   "version": "3.7.3"
  }
 },
 "nbformat": 4,
 "nbformat_minor": 2
}
